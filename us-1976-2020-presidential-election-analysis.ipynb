{
 "cells": [
  {
   "cell_type": "code",
   "execution_count": 1,
   "metadata": {
    "_cell_guid": "79c7e3d0-c299-4dcb-8224-4455121ee9b0",
    "_uuid": "d629ff2d2480ee46fbb7e2d37f6b5fab8052498a",
    "execution": {
     "iopub.execute_input": "2020-11-10T13:20:13.754294Z",
     "iopub.status.busy": "2020-11-10T13:20:13.753457Z",
     "iopub.status.idle": "2020-11-10T13:20:14.949180Z",
     "shell.execute_reply": "2020-11-10T13:20:14.948485Z"
    },
    "papermill": {
     "duration": 1.230869,
     "end_time": "2020-11-10T13:20:14.949351",
     "exception": false,
     "start_time": "2020-11-10T13:20:13.718482",
     "status": "completed"
    },
    "tags": []
   },
   "outputs": [],
   "source": [
    "#Loading libraries\n",
    "import pandas as pd\n",
    "import numpy as np\n",
    "import matplotlib.pyplot as plt\n",
    "import seaborn as sns\n"
   ]
  },
  {
   "cell_type": "code",
   "execution_count": 2,
   "metadata": {
    "execution": {
     "iopub.execute_input": "2020-11-10T13:20:15.021935Z",
     "iopub.status.busy": "2020-11-10T13:20:15.021096Z",
     "iopub.status.idle": "2020-11-10T13:20:15.096959Z",
     "shell.execute_reply": "2020-11-10T13:20:15.096201Z"
    },
    "papermill": {
     "duration": 0.116953,
     "end_time": "2020-11-10T13:20:15.097095",
     "exception": false,
     "start_time": "2020-11-10T13:20:14.980142",
     "status": "completed"
    },
    "tags": []
   },
   "outputs": [],
   "source": [
    "#Loading datasets\n",
    "#Election results at state-level 1976-2016 (Source:https://electionlab.mit.edu/data)\n",
    "elections = pd.read_csv('../input/us-elections-dataset/president-1976-2016.csv')\n",
    "\n",
    "#2020 Presidental election at county-level result-incomplted(Source: https://www.kaggle.com/unanimad/us-election-2020 Version 61st)\n",
    "this_year_data = pd.read_csv('../input/us-1976-2020-statelevel-presidential-elections/USA/2020president_county_candidate.csv')\n",
    "\n",
    "#Voter turnout-rate(Source - Wikipedia)\n",
    "turnout = pd.read_csv('../input/us-1976-2020-statelevel-presidential-elections/USA/turnout_rate.csv')\n",
    "#US domographic indexes (Source: WorldBank Data)\n",
    "dmg = pd.read_csv('../input/us-1976-2020-statelevel-presidential-elections/USA/USA_demographic.csv')\n",
    "\n",
    "# electoral college votes by states \n",
    "electrol = pd.read_csv('../input/us-1976-2020-statelevel-presidential-elections/USA/electoral_vote.csv')"
   ]
  },
  {
   "cell_type": "code",
   "execution_count": 3,
   "metadata": {
    "execution": {
     "iopub.execute_input": "2020-11-10T13:20:15.243421Z",
     "iopub.status.busy": "2020-11-10T13:20:15.234438Z",
     "iopub.status.idle": "2020-11-10T13:20:15.254820Z",
     "shell.execute_reply": "2020-11-10T13:20:15.254198Z"
    },
    "papermill": {
     "duration": 0.064602,
     "end_time": "2020-11-10T13:20:15.254942",
     "exception": false,
     "start_time": "2020-11-10T13:20:15.190340",
     "status": "completed"
    },
    "tags": []
   },
   "outputs": [
    {
     "data": {
      "text/html": [
       "<div>\n",
       "<style scoped>\n",
       "    .dataframe tbody tr th:only-of-type {\n",
       "        vertical-align: middle;\n",
       "    }\n",
       "\n",
       "    .dataframe tbody tr th {\n",
       "        vertical-align: top;\n",
       "    }\n",
       "\n",
       "    .dataframe thead th {\n",
       "        text-align: right;\n",
       "    }\n",
       "</style>\n",
       "<table border=\"1\" class=\"dataframe\">\n",
       "  <thead>\n",
       "    <tr style=\"text-align: right;\">\n",
       "      <th></th>\n",
       "      <th>year</th>\n",
       "      <th>state</th>\n",
       "      <th>state_po</th>\n",
       "      <th>candidate</th>\n",
       "      <th>party</th>\n",
       "      <th>candidatevotes</th>\n",
       "      <th>totalvotes</th>\n",
       "    </tr>\n",
       "  </thead>\n",
       "  <tbody>\n",
       "    <tr>\n",
       "      <th>0</th>\n",
       "      <td>1976</td>\n",
       "      <td>Alabama</td>\n",
       "      <td>AL</td>\n",
       "      <td>Carter, Jimmy</td>\n",
       "      <td>democrat</td>\n",
       "      <td>659170</td>\n",
       "      <td>1182850</td>\n",
       "    </tr>\n",
       "    <tr>\n",
       "      <th>1</th>\n",
       "      <td>1976</td>\n",
       "      <td>Alabama</td>\n",
       "      <td>AL</td>\n",
       "      <td>Ford, Gerald</td>\n",
       "      <td>republican</td>\n",
       "      <td>504070</td>\n",
       "      <td>1182850</td>\n",
       "    </tr>\n",
       "    <tr>\n",
       "      <th>2</th>\n",
       "      <td>1976</td>\n",
       "      <td>Alabama</td>\n",
       "      <td>AL</td>\n",
       "      <td>Maddox, Lester</td>\n",
       "      <td>american independent party</td>\n",
       "      <td>9198</td>\n",
       "      <td>1182850</td>\n",
       "    </tr>\n",
       "    <tr>\n",
       "      <th>3</th>\n",
       "      <td>1976</td>\n",
       "      <td>Alabama</td>\n",
       "      <td>AL</td>\n",
       "      <td>Bubar, Benjamin \"\"Ben\"\"</td>\n",
       "      <td>prohibition</td>\n",
       "      <td>6669</td>\n",
       "      <td>1182850</td>\n",
       "    </tr>\n",
       "    <tr>\n",
       "      <th>4</th>\n",
       "      <td>1976</td>\n",
       "      <td>Alabama</td>\n",
       "      <td>AL</td>\n",
       "      <td>Hall, Gus</td>\n",
       "      <td>communist party use</td>\n",
       "      <td>1954</td>\n",
       "      <td>1182850</td>\n",
       "    </tr>\n",
       "  </tbody>\n",
       "</table>\n",
       "</div>"
      ],
      "text/plain": [
       "   year    state state_po                candidate  \\\n",
       "0  1976  Alabama       AL            Carter, Jimmy   \n",
       "1  1976  Alabama       AL             Ford, Gerald   \n",
       "2  1976  Alabama       AL           Maddox, Lester   \n",
       "3  1976  Alabama       AL  Bubar, Benjamin \"\"Ben\"\"   \n",
       "4  1976  Alabama       AL                Hall, Gus   \n",
       "\n",
       "                        party  candidatevotes  totalvotes  \n",
       "0                    democrat          659170     1182850  \n",
       "1                  republican          504070     1182850  \n",
       "2  american independent party            9198     1182850  \n",
       "3                 prohibition            6669     1182850  \n",
       "4         communist party use            1954     1182850  "
      ]
     },
     "execution_count": 3,
     "metadata": {},
     "output_type": "execute_result"
    }
   ],
   "source": [
    "#Dropping unnecessary variables in elections dataset\n",
    "elections.drop(['state_fips','state_cen', 'office', 'writein','version','notes','state_ic'],axis = 'columns',inplace = True)\n",
    "elections.head()"
   ]
  },
  {
   "cell_type": "code",
   "execution_count": 4,
   "metadata": {
    "execution": {
     "iopub.execute_input": "2020-11-10T13:20:15.326510Z",
     "iopub.status.busy": "2020-11-10T13:20:15.324532Z",
     "iopub.status.idle": "2020-11-10T13:20:15.328990Z",
     "shell.execute_reply": "2020-11-10T13:20:15.329581Z"
    },
    "papermill": {
     "duration": 0.043765,
     "end_time": "2020-11-10T13:20:15.329756",
     "exception": false,
     "start_time": "2020-11-10T13:20:15.285991",
     "status": "completed"
    },
    "tags": []
   },
   "outputs": [],
   "source": [
    "#Getting a dataframe which contains State and State_po\n",
    "state_name = elections['state'].unique()\n",
    "state_code = elections['state_po'].unique()\n",
    "state_name = pd.DataFrame(state_name, columns=['state'])\n",
    "state_code = pd.DataFrame(state_code, columns = ['state_po'])\n",
    "state_namecode = pd.concat([state_name, state_code], axis = 1)"
   ]
  },
  {
   "cell_type": "code",
   "execution_count": 5,
   "metadata": {
    "execution": {
     "iopub.execute_input": "2020-11-10T13:20:15.402842Z",
     "iopub.status.busy": "2020-11-10T13:20:15.402014Z",
     "iopub.status.idle": "2020-11-10T13:20:15.423169Z",
     "shell.execute_reply": "2020-11-10T13:20:15.423754Z"
    },
    "papermill": {
     "duration": 0.062429,
     "end_time": "2020-11-10T13:20:15.423926",
     "exception": false,
     "start_time": "2020-11-10T13:20:15.361497",
     "status": "completed"
    },
    "tags": []
   },
   "outputs": [],
   "source": [
    "#This year election is in another dataset, get the total votes to state-level and add the 'Year' column\n",
    "this_year = this_year_data.groupby(['state', 'candidate','party'])['votes'].sum()\n",
    "this_year = this_year.to_frame()\n",
    "this_year = this_year.reset_index()\n",
    "this_year['year'] = 2020"
   ]
  },
  {
   "cell_type": "code",
   "execution_count": 6,
   "metadata": {
    "execution": {
     "iopub.execute_input": "2020-11-10T13:20:15.511462Z",
     "iopub.status.busy": "2020-11-10T13:20:15.510522Z",
     "iopub.status.idle": "2020-11-10T13:20:15.515563Z",
     "shell.execute_reply": "2020-11-10T13:20:15.514881Z"
    },
    "papermill": {
     "duration": 0.059621,
     "end_time": "2020-11-10T13:20:15.515683",
     "exception": false,
     "start_time": "2020-11-10T13:20:15.456062",
     "status": "completed"
    },
    "tags": []
   },
   "outputs": [
    {
     "data": {
      "text/html": [
       "<div>\n",
       "<style scoped>\n",
       "    .dataframe tbody tr th:only-of-type {\n",
       "        vertical-align: middle;\n",
       "    }\n",
       "\n",
       "    .dataframe tbody tr th {\n",
       "        vertical-align: top;\n",
       "    }\n",
       "\n",
       "    .dataframe thead th {\n",
       "        text-align: right;\n",
       "    }\n",
       "</style>\n",
       "<table border=\"1\" class=\"dataframe\">\n",
       "  <thead>\n",
       "    <tr style=\"text-align: right;\">\n",
       "      <th></th>\n",
       "      <th>state</th>\n",
       "      <th>candidate</th>\n",
       "      <th>party</th>\n",
       "      <th>votes</th>\n",
       "      <th>year</th>\n",
       "      <th>state_po</th>\n",
       "    </tr>\n",
       "  </thead>\n",
       "  <tbody>\n",
       "    <tr>\n",
       "      <th>0</th>\n",
       "      <td>Alabama</td>\n",
       "      <td>Write-ins</td>\n",
       "      <td>WRI</td>\n",
       "      <td>7274</td>\n",
       "      <td>2020</td>\n",
       "      <td>AL</td>\n",
       "    </tr>\n",
       "    <tr>\n",
       "      <th>1</th>\n",
       "      <td>Alabama</td>\n",
       "      <td>Donald Trump</td>\n",
       "      <td>REP</td>\n",
       "      <td>1434159</td>\n",
       "      <td>2020</td>\n",
       "      <td>AL</td>\n",
       "    </tr>\n",
       "    <tr>\n",
       "      <th>2</th>\n",
       "      <td>Alabama</td>\n",
       "      <td>Jo Jorgensen</td>\n",
       "      <td>LIB</td>\n",
       "      <td>24994</td>\n",
       "      <td>2020</td>\n",
       "      <td>AL</td>\n",
       "    </tr>\n",
       "    <tr>\n",
       "      <th>3</th>\n",
       "      <td>Alabama</td>\n",
       "      <td>Joe Biden</td>\n",
       "      <td>DEM</td>\n",
       "      <td>843473</td>\n",
       "      <td>2020</td>\n",
       "      <td>AL</td>\n",
       "    </tr>\n",
       "    <tr>\n",
       "      <th>4</th>\n",
       "      <td>Alaska</td>\n",
       "      <td>Brock Pierce</td>\n",
       "      <td>IND</td>\n",
       "      <td>297</td>\n",
       "      <td>2020</td>\n",
       "      <td>AK</td>\n",
       "    </tr>\n",
       "  </tbody>\n",
       "</table>\n",
       "</div>"
      ],
      "text/plain": [
       "     state     candidate party    votes  year state_po\n",
       "0  Alabama     Write-ins   WRI     7274  2020       AL\n",
       "1  Alabama  Donald Trump   REP  1434159  2020       AL\n",
       "2  Alabama  Jo Jorgensen   LIB    24994  2020       AL\n",
       "3  Alabama     Joe Biden   DEM   843473  2020       AL\n",
       "4   Alaska  Brock Pierce   IND      297  2020       AK"
      ]
     },
     "execution_count": 6,
     "metadata": {},
     "output_type": "execute_result"
    }
   ],
   "source": [
    "#Add State_po to the dataframe of this year election\n",
    "this_year_withcode = this_year.merge(state_namecode, on='state')\n",
    "this_year_withcode.head()"
   ]
  },
  {
   "cell_type": "code",
   "execution_count": 7,
   "metadata": {
    "execution": {
     "iopub.execute_input": "2020-11-10T13:20:15.589169Z",
     "iopub.status.busy": "2020-11-10T13:20:15.588377Z",
     "iopub.status.idle": "2020-11-10T13:20:15.614161Z",
     "shell.execute_reply": "2020-11-10T13:20:15.613547Z"
    },
    "papermill": {
     "duration": 0.066659,
     "end_time": "2020-11-10T13:20:15.614279",
     "exception": false,
     "start_time": "2020-11-10T13:20:15.547620",
     "status": "completed"
    },
    "tags": []
   },
   "outputs": [
    {
     "data": {
      "text/html": [
       "<div>\n",
       "<style scoped>\n",
       "    .dataframe tbody tr th:only-of-type {\n",
       "        vertical-align: middle;\n",
       "    }\n",
       "\n",
       "    .dataframe tbody tr th {\n",
       "        vertical-align: top;\n",
       "    }\n",
       "\n",
       "    .dataframe thead th {\n",
       "        text-align: right;\n",
       "    }\n",
       "</style>\n",
       "<table border=\"1\" class=\"dataframe\">\n",
       "  <thead>\n",
       "    <tr style=\"text-align: right;\">\n",
       "      <th></th>\n",
       "      <th>state</th>\n",
       "      <th>candidate</th>\n",
       "      <th>party</th>\n",
       "      <th>candidatevotes</th>\n",
       "      <th>year</th>\n",
       "      <th>state_po</th>\n",
       "      <th>totalvotes</th>\n",
       "    </tr>\n",
       "  </thead>\n",
       "  <tbody>\n",
       "    <tr>\n",
       "      <th>0</th>\n",
       "      <td>Alabama</td>\n",
       "      <td>Write-ins</td>\n",
       "      <td>WRI</td>\n",
       "      <td>7274</td>\n",
       "      <td>2020</td>\n",
       "      <td>AL</td>\n",
       "      <td>2309900</td>\n",
       "    </tr>\n",
       "    <tr>\n",
       "      <th>1</th>\n",
       "      <td>Alabama</td>\n",
       "      <td>Donald Trump</td>\n",
       "      <td>republican</td>\n",
       "      <td>1434159</td>\n",
       "      <td>2020</td>\n",
       "      <td>AL</td>\n",
       "      <td>2309900</td>\n",
       "    </tr>\n",
       "    <tr>\n",
       "      <th>2</th>\n",
       "      <td>Alabama</td>\n",
       "      <td>Jo Jorgensen</td>\n",
       "      <td>LIB</td>\n",
       "      <td>24994</td>\n",
       "      <td>2020</td>\n",
       "      <td>AL</td>\n",
       "      <td>2309900</td>\n",
       "    </tr>\n",
       "    <tr>\n",
       "      <th>3</th>\n",
       "      <td>Alabama</td>\n",
       "      <td>Joe Biden</td>\n",
       "      <td>democrat</td>\n",
       "      <td>843473</td>\n",
       "      <td>2020</td>\n",
       "      <td>AL</td>\n",
       "      <td>2309900</td>\n",
       "    </tr>\n",
       "    <tr>\n",
       "      <th>4</th>\n",
       "      <td>Alaska</td>\n",
       "      <td>Brock Pierce</td>\n",
       "      <td>IND</td>\n",
       "      <td>297</td>\n",
       "      <td>2020</td>\n",
       "      <td>AK</td>\n",
       "      <td>131885</td>\n",
       "    </tr>\n",
       "  </tbody>\n",
       "</table>\n",
       "</div>"
      ],
      "text/plain": [
       "     state     candidate       party  candidatevotes  year state_po  \\\n",
       "0  Alabama     Write-ins         WRI            7274  2020       AL   \n",
       "1  Alabama  Donald Trump  republican         1434159  2020       AL   \n",
       "2  Alabama  Jo Jorgensen         LIB           24994  2020       AL   \n",
       "3  Alabama     Joe Biden    democrat          843473  2020       AL   \n",
       "4   Alaska  Brock Pierce         IND             297  2020       AK   \n",
       "\n",
       "   totalvotes  \n",
       "0     2309900  \n",
       "1     2309900  \n",
       "2     2309900  \n",
       "3     2309900  \n",
       "4      131885  "
      ]
     },
     "execution_count": 7,
     "metadata": {},
     "output_type": "execute_result"
    }
   ],
   "source": [
    "#Calculate total votes for each candidate in each state\n",
    "totalvotes_df = this_year.groupby('state')['votes'].sum()\n",
    "totalvotes_df = totalvotes_df.reset_index()\n",
    "totalvotes_df.rename(columns = {'votes':'totalvotes'},inplace = True)\n",
    "\n",
    "#Add total state-level votes to this year dataframe\n",
    "this_year_withcode = this_year_withcode.merge(totalvotes_df, on = 'state')\n",
    "this_year_withcode.rename(columns = {'votes':'candidatevotes'}, inplace = True)\n",
    "\n",
    "#Rename some other columns to be similar with elections dataset\n",
    "this_year_withcode['party'].replace({'REP':'republican', 'DEM':'democrat'},inplace = True)\n",
    "this_year_withcode.head()"
   ]
  },
  {
   "cell_type": "code",
   "execution_count": 8,
   "metadata": {
    "execution": {
     "iopub.execute_input": "2020-11-10T13:20:15.689234Z",
     "iopub.status.busy": "2020-11-10T13:20:15.686874Z",
     "iopub.status.idle": "2020-11-10T13:20:15.706354Z",
     "shell.execute_reply": "2020-11-10T13:20:15.705736Z"
    },
    "papermill": {
     "duration": 0.059677,
     "end_time": "2020-11-10T13:20:15.706477",
     "exception": false,
     "start_time": "2020-11-10T13:20:15.646800",
     "status": "completed"
    },
    "tags": []
   },
   "outputs": [
    {
     "data": {
      "text/html": [
       "<div>\n",
       "<style scoped>\n",
       "    .dataframe tbody tr th:only-of-type {\n",
       "        vertical-align: middle;\n",
       "    }\n",
       "\n",
       "    .dataframe tbody tr th {\n",
       "        vertical-align: top;\n",
       "    }\n",
       "\n",
       "    .dataframe thead th {\n",
       "        text-align: right;\n",
       "    }\n",
       "</style>\n",
       "<table border=\"1\" class=\"dataframe\">\n",
       "  <thead>\n",
       "    <tr style=\"text-align: right;\">\n",
       "      <th></th>\n",
       "      <th>year</th>\n",
       "      <th>state</th>\n",
       "      <th>state_po</th>\n",
       "      <th>candidate</th>\n",
       "      <th>party</th>\n",
       "      <th>candidatevotes</th>\n",
       "      <th>totalvotes</th>\n",
       "    </tr>\n",
       "  </thead>\n",
       "  <tbody>\n",
       "    <tr>\n",
       "      <th>0</th>\n",
       "      <td>1976</td>\n",
       "      <td>Alabama</td>\n",
       "      <td>AL</td>\n",
       "      <td>Carter, Jimmy</td>\n",
       "      <td>democrat</td>\n",
       "      <td>659170</td>\n",
       "      <td>1182850</td>\n",
       "    </tr>\n",
       "    <tr>\n",
       "      <th>1</th>\n",
       "      <td>1976</td>\n",
       "      <td>Alabama</td>\n",
       "      <td>AL</td>\n",
       "      <td>Ford, Gerald</td>\n",
       "      <td>republican</td>\n",
       "      <td>504070</td>\n",
       "      <td>1182850</td>\n",
       "    </tr>\n",
       "    <tr>\n",
       "      <th>2</th>\n",
       "      <td>1976</td>\n",
       "      <td>Alabama</td>\n",
       "      <td>AL</td>\n",
       "      <td>Maddox, Lester</td>\n",
       "      <td>american independent party</td>\n",
       "      <td>9198</td>\n",
       "      <td>1182850</td>\n",
       "    </tr>\n",
       "    <tr>\n",
       "      <th>3</th>\n",
       "      <td>1976</td>\n",
       "      <td>Alabama</td>\n",
       "      <td>AL</td>\n",
       "      <td>Bubar, Benjamin \"\"Ben\"\"</td>\n",
       "      <td>prohibition</td>\n",
       "      <td>6669</td>\n",
       "      <td>1182850</td>\n",
       "    </tr>\n",
       "    <tr>\n",
       "      <th>4</th>\n",
       "      <td>1976</td>\n",
       "      <td>Alabama</td>\n",
       "      <td>AL</td>\n",
       "      <td>Hall, Gus</td>\n",
       "      <td>communist party use</td>\n",
       "      <td>1954</td>\n",
       "      <td>1182850</td>\n",
       "    </tr>\n",
       "  </tbody>\n",
       "</table>\n",
       "</div>"
      ],
      "text/plain": [
       "   year    state state_po                candidate  \\\n",
       "0  1976  Alabama       AL            Carter, Jimmy   \n",
       "1  1976  Alabama       AL             Ford, Gerald   \n",
       "2  1976  Alabama       AL           Maddox, Lester   \n",
       "3  1976  Alabama       AL  Bubar, Benjamin \"\"Ben\"\"   \n",
       "4  1976  Alabama       AL                Hall, Gus   \n",
       "\n",
       "                        party  candidatevotes  totalvotes  \n",
       "0                    democrat          659170     1182850  \n",
       "1                  republican          504070     1182850  \n",
       "2  american independent party            9198     1182850  \n",
       "3                 prohibition            6669     1182850  \n",
       "4         communist party use            1954     1182850  "
      ]
     },
     "execution_count": 8,
     "metadata": {},
     "output_type": "execute_result"
    }
   ],
   "source": [
    "#Reorder the arrange of this year dataframe\n",
    "this_year_withcode = this_year_withcode[['year','state', 'state_po', 'candidate','party', 'candidatevotes','totalvotes']]\n",
    "\n",
    "#Merge the result of previous elections with the election this year\n",
    "elections_full = pd.concat([elections,this_year_withcode])\n",
    "elections_full = elections_full.reset_index()\n",
    "\n",
    "elections_full.drop(['index'], axis =1, inplace = True)\n",
    "elections_full.head()"
   ]
  },
  {
   "cell_type": "code",
   "execution_count": 9,
   "metadata": {
    "execution": {
     "iopub.execute_input": "2020-11-10T13:20:15.787585Z",
     "iopub.status.busy": "2020-11-10T13:20:15.786835Z",
     "iopub.status.idle": "2020-11-10T13:20:15.839345Z",
     "shell.execute_reply": "2020-11-10T13:20:15.839880Z"
    },
    "papermill": {
     "duration": 0.099954,
     "end_time": "2020-11-10T13:20:15.840073",
     "exception": false,
     "start_time": "2020-11-10T13:20:15.740119",
     "status": "completed"
    },
    "tags": []
   },
   "outputs": [
    {
     "data": {
      "text/html": [
       "<div>\n",
       "<style scoped>\n",
       "    .dataframe tbody tr th:only-of-type {\n",
       "        vertical-align: middle;\n",
       "    }\n",
       "\n",
       "    .dataframe tbody tr th {\n",
       "        vertical-align: top;\n",
       "    }\n",
       "\n",
       "    .dataframe thead th {\n",
       "        text-align: right;\n",
       "    }\n",
       "</style>\n",
       "<table border=\"1\" class=\"dataframe\">\n",
       "  <thead>\n",
       "    <tr style=\"text-align: right;\">\n",
       "      <th></th>\n",
       "      <th>year_x</th>\n",
       "      <th>state_x</th>\n",
       "      <th>state_po_x</th>\n",
       "      <th>candidate_x</th>\n",
       "      <th>party_x</th>\n",
       "      <th>candidatevotes_x</th>\n",
       "      <th>totalvotes_x</th>\n",
       "      <th>for_join</th>\n",
       "      <th>year_y</th>\n",
       "      <th>state_y</th>\n",
       "      <th>state_po_y</th>\n",
       "      <th>candidate_y</th>\n",
       "      <th>party_y</th>\n",
       "      <th>candidatevotes_y</th>\n",
       "      <th>totalvotes_y</th>\n",
       "    </tr>\n",
       "  </thead>\n",
       "  <tbody>\n",
       "    <tr>\n",
       "      <th>0</th>\n",
       "      <td>1976</td>\n",
       "      <td>Alabama</td>\n",
       "      <td>AL</td>\n",
       "      <td>Ford, Gerald</td>\n",
       "      <td>republican</td>\n",
       "      <td>504070</td>\n",
       "      <td>1182850</td>\n",
       "      <td>1976AL</td>\n",
       "      <td>1976</td>\n",
       "      <td>Alabama</td>\n",
       "      <td>AL</td>\n",
       "      <td>Carter, Jimmy</td>\n",
       "      <td>democrat</td>\n",
       "      <td>659170</td>\n",
       "      <td>1182850</td>\n",
       "    </tr>\n",
       "    <tr>\n",
       "      <th>1</th>\n",
       "      <td>1976</td>\n",
       "      <td>Alaska</td>\n",
       "      <td>AK</td>\n",
       "      <td>Ford, Gerald</td>\n",
       "      <td>republican</td>\n",
       "      <td>71555</td>\n",
       "      <td>123574</td>\n",
       "      <td>1976AK</td>\n",
       "      <td>1976</td>\n",
       "      <td>Alaska</td>\n",
       "      <td>AK</td>\n",
       "      <td>Carter, Jimmy</td>\n",
       "      <td>democrat</td>\n",
       "      <td>44058</td>\n",
       "      <td>123574</td>\n",
       "    </tr>\n",
       "    <tr>\n",
       "      <th>2</th>\n",
       "      <td>1976</td>\n",
       "      <td>Arizona</td>\n",
       "      <td>AZ</td>\n",
       "      <td>Ford, Gerald</td>\n",
       "      <td>republican</td>\n",
       "      <td>418642</td>\n",
       "      <td>742719</td>\n",
       "      <td>1976AZ</td>\n",
       "      <td>1976</td>\n",
       "      <td>Arizona</td>\n",
       "      <td>AZ</td>\n",
       "      <td>Carter, Jimmy</td>\n",
       "      <td>democrat</td>\n",
       "      <td>295602</td>\n",
       "      <td>742719</td>\n",
       "    </tr>\n",
       "    <tr>\n",
       "      <th>3</th>\n",
       "      <td>1976</td>\n",
       "      <td>Arkansas</td>\n",
       "      <td>AR</td>\n",
       "      <td>Ford, Gerald</td>\n",
       "      <td>republican</td>\n",
       "      <td>267903</td>\n",
       "      <td>767535</td>\n",
       "      <td>1976AR</td>\n",
       "      <td>1976</td>\n",
       "      <td>Arkansas</td>\n",
       "      <td>AR</td>\n",
       "      <td>Carter, Jimmy</td>\n",
       "      <td>democrat</td>\n",
       "      <td>498604</td>\n",
       "      <td>767535</td>\n",
       "    </tr>\n",
       "    <tr>\n",
       "      <th>4</th>\n",
       "      <td>1976</td>\n",
       "      <td>California</td>\n",
       "      <td>CA</td>\n",
       "      <td>Ford, Gerald</td>\n",
       "      <td>republican</td>\n",
       "      <td>3882244</td>\n",
       "      <td>7803770</td>\n",
       "      <td>1976CA</td>\n",
       "      <td>1976</td>\n",
       "      <td>California</td>\n",
       "      <td>CA</td>\n",
       "      <td>Carter, Jimmy</td>\n",
       "      <td>democrat</td>\n",
       "      <td>3742284</td>\n",
       "      <td>7803770</td>\n",
       "    </tr>\n",
       "  </tbody>\n",
       "</table>\n",
       "</div>"
      ],
      "text/plain": [
       "   year_x     state_x state_po_x   candidate_x     party_x  candidatevotes_x  \\\n",
       "0    1976     Alabama         AL  Ford, Gerald  republican            504070   \n",
       "1    1976      Alaska         AK  Ford, Gerald  republican             71555   \n",
       "2    1976     Arizona         AZ  Ford, Gerald  republican            418642   \n",
       "3    1976    Arkansas         AR  Ford, Gerald  republican            267903   \n",
       "4    1976  California         CA  Ford, Gerald  republican           3882244   \n",
       "\n",
       "   totalvotes_x for_join  year_y     state_y state_po_y    candidate_y  \\\n",
       "0       1182850   1976AL    1976     Alabama         AL  Carter, Jimmy   \n",
       "1        123574   1976AK    1976      Alaska         AK  Carter, Jimmy   \n",
       "2        742719   1976AZ    1976     Arizona         AZ  Carter, Jimmy   \n",
       "3        767535   1976AR    1976    Arkansas         AR  Carter, Jimmy   \n",
       "4       7803770   1976CA    1976  California         CA  Carter, Jimmy   \n",
       "\n",
       "    party_y  candidatevotes_y  totalvotes_y  \n",
       "0  democrat            659170       1182850  \n",
       "1  democrat             44058        123574  \n",
       "2  democrat            295602        742719  \n",
       "3  democrat            498604        767535  \n",
       "4  democrat           3742284       7803770  "
      ]
     },
     "execution_count": 9,
     "metadata": {},
     "output_type": "execute_result"
    }
   ],
   "source": [
    "#Generate a column with the unique code for state, each year, for later joining purpose\n",
    "elections_full['for_join'] =elections_full['year'].astype(str) + elections_full['state_po']\n",
    "\n",
    "#Get the results for Republican and Democrats separately, then later join them side by side\n",
    "democrat = elections_full.query(\"party=='democrat'\")\n",
    "republican = elections_full.query(\"party=='republican'\")\n",
    "df = republican.merge(democrat, on = 'for_join')\n",
    "\n",
    "df.head()"
   ]
  },
  {
   "cell_type": "code",
   "execution_count": 10,
   "metadata": {
    "execution": {
     "iopub.execute_input": "2020-11-10T13:20:15.918936Z",
     "iopub.status.busy": "2020-11-10T13:20:15.916920Z",
     "iopub.status.idle": "2020-11-10T13:20:15.922466Z",
     "shell.execute_reply": "2020-11-10T13:20:15.921796Z"
    },
    "papermill": {
     "duration": 0.04759,
     "end_time": "2020-11-10T13:20:15.922585",
     "exception": false,
     "start_time": "2020-11-10T13:20:15.874995",
     "status": "completed"
    },
    "tags": []
   },
   "outputs": [],
   "source": [
    "#Dropping duplicated columns and rename columns for using\n",
    "df.drop(['year_y','state_y','state_po_y','party_x','party_y','totalvotes_x'], axis = 1, inplace = True)\n",
    "df.rename(columns = {'year_x':'Year', 'state_x':'State','state_po_x':'state_po', 'candidate_x':'Rep_Candidate',\n",
    "                    'candidatevotes_x':'Rep_votes','candidate_y':'Dem_Candidate', 'candidatevotes_y':\"Dem_votes\",\n",
    "                     'totalvotes_y':'Total_votes'}, inplace = True)"
   ]
  },
  {
   "cell_type": "code",
   "execution_count": 11,
   "metadata": {
    "execution": {
     "iopub.execute_input": "2020-11-10T13:20:16.015775Z",
     "iopub.status.busy": "2020-11-10T13:20:15.999568Z",
     "iopub.status.idle": "2020-11-10T13:20:16.020969Z",
     "shell.execute_reply": "2020-11-10T13:20:16.020195Z"
    },
    "papermill": {
     "duration": 0.063674,
     "end_time": "2020-11-10T13:20:16.021114",
     "exception": false,
     "start_time": "2020-11-10T13:20:15.957440",
     "status": "completed"
    },
    "tags": []
   },
   "outputs": [
    {
     "data": {
      "text/html": [
       "<div>\n",
       "<style scoped>\n",
       "    .dataframe tbody tr th:only-of-type {\n",
       "        vertical-align: middle;\n",
       "    }\n",
       "\n",
       "    .dataframe tbody tr th {\n",
       "        vertical-align: top;\n",
       "    }\n",
       "\n",
       "    .dataframe thead th {\n",
       "        text-align: right;\n",
       "    }\n",
       "</style>\n",
       "<table border=\"1\" class=\"dataframe\">\n",
       "  <thead>\n",
       "    <tr style=\"text-align: right;\">\n",
       "      <th></th>\n",
       "      <th>Year</th>\n",
       "      <th>State</th>\n",
       "      <th>state_po</th>\n",
       "      <th>Rep_Candidate</th>\n",
       "      <th>Rep_votes</th>\n",
       "      <th>for_join</th>\n",
       "      <th>Dem_Candidate</th>\n",
       "      <th>Dem_votes</th>\n",
       "      <th>Total_votes</th>\n",
       "      <th>ELECTORAL VOTE</th>\n",
       "    </tr>\n",
       "  </thead>\n",
       "  <tbody>\n",
       "    <tr>\n",
       "      <th>0</th>\n",
       "      <td>1976</td>\n",
       "      <td>Alabama</td>\n",
       "      <td>AL</td>\n",
       "      <td>Ford, Gerald</td>\n",
       "      <td>504070</td>\n",
       "      <td>1976AL</td>\n",
       "      <td>Carter, Jimmy</td>\n",
       "      <td>659170</td>\n",
       "      <td>1182850</td>\n",
       "      <td>9</td>\n",
       "    </tr>\n",
       "    <tr>\n",
       "      <th>1</th>\n",
       "      <td>1980</td>\n",
       "      <td>Alabama</td>\n",
       "      <td>AL</td>\n",
       "      <td>Reagan, Ronald</td>\n",
       "      <td>654192</td>\n",
       "      <td>1980AL</td>\n",
       "      <td>Carter, Jimmy</td>\n",
       "      <td>636730</td>\n",
       "      <td>1341929</td>\n",
       "      <td>9</td>\n",
       "    </tr>\n",
       "    <tr>\n",
       "      <th>2</th>\n",
       "      <td>1984</td>\n",
       "      <td>Alabama</td>\n",
       "      <td>AL</td>\n",
       "      <td>Reagan, Ronald</td>\n",
       "      <td>872849</td>\n",
       "      <td>1984AL</td>\n",
       "      <td>Mondale, Walter</td>\n",
       "      <td>551899</td>\n",
       "      <td>1441713</td>\n",
       "      <td>9</td>\n",
       "    </tr>\n",
       "    <tr>\n",
       "      <th>3</th>\n",
       "      <td>1988</td>\n",
       "      <td>Alabama</td>\n",
       "      <td>AL</td>\n",
       "      <td>Bush, George H.W.</td>\n",
       "      <td>815576</td>\n",
       "      <td>1988AL</td>\n",
       "      <td>Dukakis, Michael</td>\n",
       "      <td>549506</td>\n",
       "      <td>1378476</td>\n",
       "      <td>9</td>\n",
       "    </tr>\n",
       "    <tr>\n",
       "      <th>4</th>\n",
       "      <td>1992</td>\n",
       "      <td>Alabama</td>\n",
       "      <td>AL</td>\n",
       "      <td>Bush, George H.W.</td>\n",
       "      <td>804283</td>\n",
       "      <td>1992AL</td>\n",
       "      <td>Clinton, Bill</td>\n",
       "      <td>690080</td>\n",
       "      <td>1688060</td>\n",
       "      <td>9</td>\n",
       "    </tr>\n",
       "  </tbody>\n",
       "</table>\n",
       "</div>"
      ],
      "text/plain": [
       "   Year    State state_po      Rep_Candidate  Rep_votes for_join  \\\n",
       "0  1976  Alabama       AL       Ford, Gerald     504070   1976AL   \n",
       "1  1980  Alabama       AL     Reagan, Ronald     654192   1980AL   \n",
       "2  1984  Alabama       AL     Reagan, Ronald     872849   1984AL   \n",
       "3  1988  Alabama       AL  Bush, George H.W.     815576   1988AL   \n",
       "4  1992  Alabama       AL  Bush, George H.W.     804283   1992AL   \n",
       "\n",
       "      Dem_Candidate  Dem_votes  Total_votes  ELECTORAL VOTE  \n",
       "0     Carter, Jimmy     659170      1182850               9  \n",
       "1     Carter, Jimmy     636730      1341929               9  \n",
       "2   Mondale, Walter     551899      1441713               9  \n",
       "3  Dukakis, Michael     549506      1378476               9  \n",
       "4     Clinton, Bill     690080      1688060               9  "
      ]
     },
     "execution_count": 11,
     "metadata": {},
     "output_type": "execute_result"
    }
   ],
   "source": [
    "#Adding electrol college votes to each states\n",
    "\n",
    "electrol.rename(columns={'STATE':'state_po'}, inplace = True)\n",
    "df = df.merge(electrol, on = 'state_po')\n",
    "df.head()"
   ]
  },
  {
   "cell_type": "code",
   "execution_count": null,
   "metadata": {},
   "outputs": [],
   "source": [
    "df2 = pd.read_csv('../input/usa-election/president_county_candidate.csv')\n",
    "map1 = pd.read_csv('../input/usa-election/US map.csv')\n",
    "us = pd.read_csv('../input/president19762016winner/president-1976-2016.csv')"
   ]
  },
  {
   "cell_type": "code",
   "execution_count": null,
   "metadata": {},
   "outputs": [],
   "source": [
    "def Electionmap(Name):\n",
    "  Data = df2.iloc[(df2['candidate']==Name).values].groupby('state').sum()\n",
    "  Datamap = pd.merge(Data,map1,left_on='state',right_on='usa_state')\n",
    "\n",
    "  fig = px.choropleth(Datamap, locations='usa_state_code', color=Datamap.voted,\n",
    "                           range_color=(0, 11e6),\n",
    "                           locationmode = 'USA-states',  \n",
    "                           scope=\"usa\",\n",
    "                           title='USA Presidential Votes Counts')\n",
    "  fig.update_layout(margin={\"r\":0,\"t\":0,\"l\":0,\"b\":0})\n",
    "  fig.show()\n",
    "Electionmap('Joe Biden')"
   ]
  },
  {
   "cell_type": "markdown",
   "metadata": {},
   "source": []
  },
  {
   "cell_type": "code",
   "execution_count": 12,
   "metadata": {
    "execution": {
     "iopub.execute_input": "2020-11-10T13:20:16.102641Z",
     "iopub.status.busy": "2020-11-10T13:20:16.101786Z",
     "iopub.status.idle": "2020-11-10T13:20:16.106324Z",
     "shell.execute_reply": "2020-11-10T13:20:16.105607Z"
    },
    "papermill": {
     "duration": 0.049735,
     "end_time": "2020-11-10T13:20:16.106440",
     "exception": false,
     "start_time": "2020-11-10T13:20:16.056705",
     "status": "completed"
    },
    "tags": []
   },
   "outputs": [
    {
     "name": "stdout",
     "output_type": "stream",
     "text": [
      "Rep_Candidate\n",
      "Bush, George H.W.    102\n",
      "Bush, George W.      101\n",
      "Dole, Robert          51\n",
      "Donald Trump          51\n",
      "Ford, Gerald          51\n",
      "McCain, John          51\n",
      "Mitt, Romney           1\n",
      "Reagan, Ronald       102\n",
      "Romney, Mitt          49\n",
      "Trump, Donald J.      55\n",
      "Name: Rep_Candidate, dtype: int64\n",
      "Dem_Candidate\n",
      "Carter, Jimmy       102\n",
      "Clinton, Bill       102\n",
      "Clinton, Hillary     54\n",
      "Dukakis, Michael     51\n",
      "Gore, Al             50\n",
      "Joe Biden            51\n",
      "Kerry, John          50\n",
      "Mondale, Walter      51\n",
      "Obama, Barack H.    101\n",
      "Other                 1\n",
      "Name: Dem_Candidate, dtype: int64\n"
     ]
    }
   ],
   "source": [
    "#Checking if all candidate names are inified and no duplicated rows\n",
    "\n",
    "print(df.groupby('Rep_Candidate')['Rep_Candidate'].count())\n",
    "print(df.groupby('Dem_Candidate')['Dem_Candidate'].count())"
   ]
  },
  {
   "cell_type": "code",
   "execution_count": 13,
   "metadata": {
    "execution": {
     "iopub.execute_input": "2020-11-10T13:20:16.196702Z",
     "iopub.status.busy": "2020-11-10T13:20:16.195042Z",
     "iopub.status.idle": "2020-11-10T13:20:16.209931Z",
     "shell.execute_reply": "2020-11-10T13:20:16.209201Z"
    },
    "papermill": {
     "duration": 0.064734,
     "end_time": "2020-11-10T13:20:16.210079",
     "exception": false,
     "start_time": "2020-11-10T13:20:16.145345",
     "status": "completed"
    },
    "tags": []
   },
   "outputs": [
    {
     "data": {
      "text/html": [
       "<div>\n",
       "<style scoped>\n",
       "    .dataframe tbody tr th:only-of-type {\n",
       "        vertical-align: middle;\n",
       "    }\n",
       "\n",
       "    .dataframe tbody tr th {\n",
       "        vertical-align: top;\n",
       "    }\n",
       "\n",
       "    .dataframe thead th {\n",
       "        text-align: right;\n",
       "    }\n",
       "</style>\n",
       "<table border=\"1\" class=\"dataframe\">\n",
       "  <thead>\n",
       "    <tr style=\"text-align: right;\">\n",
       "      <th></th>\n",
       "      <th>for_join</th>\n",
       "    </tr>\n",
       "    <tr>\n",
       "      <th>for_join</th>\n",
       "      <th></th>\n",
       "    </tr>\n",
       "  </thead>\n",
       "  <tbody>\n",
       "    <tr>\n",
       "      <th>2004MD</th>\n",
       "      <td>True</td>\n",
       "    </tr>\n",
       "    <tr>\n",
       "      <th>2016AZ</th>\n",
       "      <td>True</td>\n",
       "    </tr>\n",
       "    <tr>\n",
       "      <th>2016MD</th>\n",
       "      <td>True</td>\n",
       "    </tr>\n",
       "  </tbody>\n",
       "</table>\n",
       "</div>"
      ],
      "text/plain": [
       "          for_join\n",
       "for_join          \n",
       "2004MD        True\n",
       "2016AZ        True\n",
       "2016MD        True"
      ]
     },
     "execution_count": 13,
     "metadata": {},
     "output_type": "execute_result"
    }
   ],
   "source": [
    "#Now,in df, there is only one row represent for one election in one state, \n",
    "# so the 'fo_join' value should be unique in order to ensure there are more than 1 row of result for an election in a state\n",
    "#Filter for duplicated values \n",
    "for_filter = df.groupby('for_join')['for_join'].count() !=1\n",
    "for_filter = for_filter.to_frame()\n",
    "for_filter[for_filter['for_join']==True]"
   ]
  },
  {
   "cell_type": "code",
   "execution_count": 14,
   "metadata": {
    "execution": {
     "iopub.execute_input": "2020-11-10T13:20:16.322178Z",
     "iopub.status.busy": "2020-11-10T13:20:16.321401Z",
     "iopub.status.idle": "2020-11-10T13:20:16.325904Z",
     "shell.execute_reply": "2020-11-10T13:20:16.325207Z"
    },
    "papermill": {
     "duration": 0.070493,
     "end_time": "2020-11-10T13:20:16.326026",
     "exception": false,
     "start_time": "2020-11-10T13:20:16.255533",
     "status": "completed"
    },
    "tags": []
   },
   "outputs": [
    {
     "name": "stdout",
     "output_type": "stream",
     "text": [
      "     Year     State state_po    Rep_Candidate  Rep_votes for_join  \\\n",
      "248  2004  Maryland       MD  Bush, George W.    1024703   2004MD   \n",
      "249  2004  Maryland       MD  Bush, George W.    1024703   2004MD   \n",
      "\n",
      "    Dem_Candidate  Dem_votes  Total_votes  ELECTORAL VOTE  \n",
      "248   Kerry, John    1334493      2384238              10  \n",
      "249         Other          7      2384238              10  \n",
      "    Year    State state_po     Rep_Candidate  Rep_votes for_join  \\\n",
      "34  2016  Arizona       AZ  Trump, Donald J.    1252401   2016AZ   \n",
      "35  2016  Arizona       AZ  Trump, Donald J.    1252401   2016AZ   \n",
      "\n",
      "       Dem_Candidate  Dem_votes  Total_votes  ELECTORAL VOTE  \n",
      "34  Clinton, Hillary    1161167      2573165              11  \n",
      "35               NaN         42      2573165              11  \n",
      "     Year     State state_po     Rep_Candidate  Rep_votes for_join  \\\n",
      "252  2016  Maryland       MD  Trump, Donald J.     943169   2016MD   \n",
      "253  2016  Maryland       MD  Trump, Donald J.     943169   2016MD   \n",
      "254  2016  Maryland       MD  Trump, Donald J.        259   2016MD   \n",
      "255  2016  Maryland       MD  Trump, Donald J.        259   2016MD   \n",
      "\n",
      "        Dem_Candidate  Dem_votes  Total_votes  ELECTORAL VOTE  \n",
      "252  Clinton, Hillary    1677928      2781446              10  \n",
      "253  Clinton, Hillary         78      2781446              10  \n",
      "254  Clinton, Hillary    1677928      2781446              10  \n",
      "255  Clinton, Hillary         78      2781446              10  \n"
     ]
    }
   ],
   "source": [
    "#Check the information of dupilcated values \n",
    "print(df[df['for_join']=='2004MD'])\n",
    "print(df[df['for_join']=='2016AZ'])\n",
    "print(df[df['for_join']=='2016MD'])"
   ]
  },
  {
   "cell_type": "code",
   "execution_count": 15,
   "metadata": {
    "execution": {
     "iopub.execute_input": "2020-11-10T13:20:16.411616Z",
     "iopub.status.busy": "2020-11-10T13:20:16.410793Z",
     "iopub.status.idle": "2020-11-10T13:20:16.413799Z",
     "shell.execute_reply": "2020-11-10T13:20:16.414328Z"
    },
    "papermill": {
     "duration": 0.050587,
     "end_time": "2020-11-10T13:20:16.414499",
     "exception": false,
     "start_time": "2020-11-10T13:20:16.363912",
     "status": "completed"
    },
    "tags": []
   },
   "outputs": [],
   "source": [
    "#Unify name for Mitt Romney, John Kerry and drop duplicated values \n",
    "\n",
    "df['Rep_Candidate'].replace({'Mitt, Romney':'Romney, Mitt'},inplace = True)\n",
    "df['Dem_Candidate'].replace({'Other':'Kerry, John'},inplace = True)\n",
    "df.drop([35,249, 253, 254,255],inplace = True)"
   ]
  },
  {
   "cell_type": "code",
   "execution_count": 16,
   "metadata": {
    "execution": {
     "iopub.execute_input": "2020-11-10T13:20:16.500135Z",
     "iopub.status.busy": "2020-11-10T13:20:16.499105Z",
     "iopub.status.idle": "2020-11-10T13:20:16.502331Z",
     "shell.execute_reply": "2020-11-10T13:20:16.501658Z"
    },
    "papermill": {
     "duration": 0.050055,
     "end_time": "2020-11-10T13:20:16.502460",
     "exception": false,
     "start_time": "2020-11-10T13:20:16.452405",
     "status": "completed"
    },
    "tags": []
   },
   "outputs": [],
   "source": [
    "#Creating new ratio columns for competing votes for each party\n",
    "\n",
    "df['Rep_rate']=df['Rep_votes']/df['Total_votes']\n",
    "df['Dem_rate']= df['Dem_votes']/df['Total_votes']\n",
    "df['Rep_Win?']= df['Rep_rate'] - df['Dem_rate']\n",
    "\n"
   ]
  },
  {
   "cell_type": "code",
   "execution_count": 17,
   "metadata": {
    "execution": {
     "iopub.execute_input": "2020-11-10T13:20:16.593352Z",
     "iopub.status.busy": "2020-11-10T13:20:16.592157Z",
     "iopub.status.idle": "2020-11-10T13:20:16.598133Z",
     "shell.execute_reply": "2020-11-10T13:20:16.597338Z"
    },
    "papermill": {
     "duration": 0.057761,
     "end_time": "2020-11-10T13:20:16.598265",
     "exception": false,
     "start_time": "2020-11-10T13:20:16.540504",
     "status": "completed"
    },
    "tags": []
   },
   "outputs": [],
   "source": [
    "#Separate the data to 2 parts due to the difference in electoral college votes policies\n",
    "\n",
    "partial = pd.concat([df[df['state_po']=='ME'], df[df['state_po']=='NE']])\n",
    "whole = df[df['state_po']!='ME']\n",
    "whole = whole[whole['state_po']!='NE']"
   ]
  },
  {
   "cell_type": "code",
   "execution_count": 18,
   "metadata": {
    "execution": {
     "iopub.execute_input": "2020-11-10T13:20:16.684490Z",
     "iopub.status.busy": "2020-11-10T13:20:16.683377Z",
     "iopub.status.idle": "2020-11-10T13:20:16.686800Z",
     "shell.execute_reply": "2020-11-10T13:20:16.686071Z"
    },
    "papermill": {
     "duration": 0.050449,
     "end_time": "2020-11-10T13:20:16.686922",
     "exception": false,
     "start_time": "2020-11-10T13:20:16.636473",
     "status": "completed"
    },
    "tags": []
   },
   "outputs": [],
   "source": [
    "#Calculate electrol college votes for candidates in ME AND NE\n",
    "partial['Dem_electrolvote'] = round(df['Dem_rate']*df['ELECTORAL VOTE'],0)\n",
    "partial['Rep_electrolvote'] = round(df['Rep_rate']*df['ELECTORAL VOTE'],0)"
   ]
  },
  {
   "cell_type": "code",
   "execution_count": 19,
   "metadata": {
    "execution": {
     "iopub.execute_input": "2020-11-10T13:20:16.772940Z",
     "iopub.status.busy": "2020-11-10T13:20:16.771957Z",
     "iopub.status.idle": "2020-11-10T13:20:16.775425Z",
     "shell.execute_reply": "2020-11-10T13:20:16.774658Z"
    },
    "papermill": {
     "duration": 0.050666,
     "end_time": "2020-11-10T13:20:16.775556",
     "exception": false,
     "start_time": "2020-11-10T13:20:16.724890",
     "status": "completed"
    },
    "tags": []
   },
   "outputs": [],
   "source": [
    "#Calculate electrol college votes for candidates in \"Winner takes it all\" - states\n",
    "whole['Dem_electrolvote'] = np.where(whole['Rep_Win?']>0, 0, whole['ELECTORAL VOTE'])\n",
    "whole['Rep_electrolvote'] = np.where(whole['Rep_Win?']<0, 0, whole['ELECTORAL VOTE'])\n",
    " "
   ]
  },
  {
   "cell_type": "code",
   "execution_count": 20,
   "metadata": {
    "execution": {
     "iopub.execute_input": "2020-11-10T13:20:16.859655Z",
     "iopub.status.busy": "2020-11-10T13:20:16.858858Z",
     "iopub.status.idle": "2020-11-10T13:20:16.872333Z",
     "shell.execute_reply": "2020-11-10T13:20:16.872956Z"
    },
    "papermill": {
     "duration": 0.05927,
     "end_time": "2020-11-10T13:20:16.873128",
     "exception": false,
     "start_time": "2020-11-10T13:20:16.813858",
     "status": "completed"
    },
    "tags": []
   },
   "outputs": [],
   "source": [
    "#Join the two type of electrol votes policy states\n",
    "full_result = pd.concat([partial, whole])\n",
    "\n",
    "#Get the table to make the heat map\n",
    "wise_party = full_result[['Year', 'State', 'Rep_Win?']]\n",
    "\n",
    "#Convert to pivot table\n",
    "wise_party = wise_party.pivot(index = 'State', columns = 'Year', values = 'Rep_Win?')"
   ]
  },
  {
   "cell_type": "code",
   "execution_count": 21,
   "metadata": {
    "execution": {
     "iopub.execute_input": "2020-11-10T13:20:16.961390Z",
     "iopub.status.busy": "2020-11-10T13:20:16.960392Z",
     "iopub.status.idle": "2020-11-10T13:20:18.261784Z",
     "shell.execute_reply": "2020-11-10T13:20:18.261135Z"
    },
    "papermill": {
     "duration": 1.34965,
     "end_time": "2020-11-10T13:20:18.261912",
     "exception": false,
     "start_time": "2020-11-10T13:20:16.912262",
     "status": "completed"
    },
    "tags": []
   },
   "outputs": [
    {
     "data": {
      "image/png": "[encoded data removed]",
      "text/plain": [
       "<Figure size 864x1080 with 2 Axes>"
      ]
     },
     "metadata": {
      "needs_background": "light"
     },
     "output_type": "display_data"
    }
   ],
   "source": [
    "#Plotting the political trend in states \n",
    "g = sns.heatmap(wise_party, vmax = 0.3, vmin = -0.3, cmap = 'coolwarm', center = 0, yticklabels = True)\n",
    "g.set_title('US State-level political trend over elections', size = 16, y = 1.05)\n",
    "g.figure.set_size_inches(12, 15)\n",
    "fig = g.get_figure()\n",
    "fig.savefig('State-levelheatmap.jpg')"
   ]
  },
  {
   "cell_type": "code",
   "execution_count": 22,
   "metadata": {
    "execution": {
     "iopub.execute_input": "2020-11-10T13:20:18.437833Z",
     "iopub.status.busy": "2020-11-10T13:20:18.434629Z",
     "iopub.status.idle": "2020-11-10T13:20:18.451770Z",
     "shell.execute_reply": "2020-11-10T13:20:18.451134Z"
    },
    "papermill": {
     "duration": 0.067564,
     "end_time": "2020-11-10T13:20:18.451897",
     "exception": false,
     "start_time": "2020-11-10T13:20:18.384333",
     "status": "completed"
    },
    "tags": []
   },
   "outputs": [
    {
     "name": "stderr",
     "output_type": "stream",
     "text": [
      "/opt/conda/lib/python3.7/site-packages/ipykernel_launcher.py:2: FutureWarning: Indexing with multiple keys (implicitly converted to a tuple of keys) will be deprecated, use a list instead.\n",
      "  \n"
     ]
    }
   ],
   "source": [
    "#Calculate for the president-elected \n",
    "national_level = full_result.groupby(['Year','Rep_Candidate','Dem_Candidate'])['Rep_votes',\n",
    "                                                                                    'Dem_votes','Dem_electrolvote',\n",
    "                                                                                    'Rep_electrolvote','Total_votes'].sum()\n",
    "national_level=national_level.reset_index()\n",
    "\n",
    "#Creating new columns for comparing ratios\n",
    "\n",
    "national_level['Rep_rate']=national_level['Rep_votes']/national_level['Total_votes']\n",
    "national_level['Dem_rate']= national_level['Dem_votes']/national_level['Total_votes']\n",
    "national_level['Rep_Win?']= (national_level['Rep_rate'] - national_level['Dem_rate'])*1000\n",
    "national_level['Rep_Win?votecount'] = national_level['Rep_votes'] - national_level['Dem_votes']"
   ]
  },
  {
   "cell_type": "code",
   "execution_count": 23,
   "metadata": {
    "execution": {
     "iopub.execute_input": "2020-11-10T13:20:18.541774Z",
     "iopub.status.busy": "2020-11-10T13:20:18.541007Z",
     "iopub.status.idle": "2020-11-10T13:20:18.545157Z",
     "shell.execute_reply": "2020-11-10T13:20:18.544385Z"
    },
    "papermill": {
     "duration": 0.052011,
     "end_time": "2020-11-10T13:20:18.545293",
     "exception": false,
     "start_time": "2020-11-10T13:20:18.493282",
     "status": "completed"
    },
    "tags": []
   },
   "outputs": [],
   "source": [
    "#President-elected is the one who gets over the threshold 270 electrol college votes\n",
    "\n",
    "national_level['President-Elected']=np.where(national_level['Rep_electrolvote']>270, \n",
    "                                                  national_level['Rep_Candidate'], national_level['Dem_Candidate'])"
   ]
  },
  {
   "cell_type": "code",
   "execution_count": 24,
   "metadata": {
    "execution": {
     "iopub.execute_input": "2020-11-10T13:20:18.636251Z",
     "iopub.status.busy": "2020-11-10T13:20:18.635456Z",
     "iopub.status.idle": "2020-11-10T13:20:19.046632Z",
     "shell.execute_reply": "2020-11-10T13:20:19.045858Z"
    },
    "papermill": {
     "duration": 0.459423,
     "end_time": "2020-11-10T13:20:19.046790",
     "exception": false,
     "start_time": "2020-11-10T13:20:18.587367",
     "status": "completed"
    },
    "tags": []
   },
   "outputs": [],
   "source": [
    "#The result may have minor vary from the official result due to the authenticity of the data and the policy changing at\n",
    "#certain states/counties \n",
    "national_level['Presidentforshort'] = ['Carter', 'Reagan', 'Reagan ', 'Bush.', 'Clinton', \n",
    "                                            'Clinton ', 'Bush', 'Bush ', 'Obama', 'Obama ', 'Trump', 'Biden']\n",
    "national_level.to_csv('National_level_president_election.csv')"
   ]
  },
  {
   "cell_type": "code",
   "execution_count": 25,
   "metadata": {
    "execution": {
     "iopub.execute_input": "2020-11-10T13:20:19.159147Z",
     "iopub.status.busy": "2020-11-10T13:20:19.158082Z",
     "iopub.status.idle": "2020-11-10T13:20:19.163855Z",
     "shell.execute_reply": "2020-11-10T13:20:19.163085Z"
    },
    "papermill": {
     "duration": 0.07532,
     "end_time": "2020-11-10T13:20:19.164004",
     "exception": false,
     "start_time": "2020-11-10T13:20:19.088684",
     "status": "completed"
    },
    "tags": []
   },
   "outputs": [
    {
     "data": {
      "text/html": [
       "<div>\n",
       "<style scoped>\n",
       "    .dataframe tbody tr th:only-of-type {\n",
       "        vertical-align: middle;\n",
       "    }\n",
       "\n",
       "    .dataframe tbody tr th {\n",
       "        vertical-align: top;\n",
       "    }\n",
       "\n",
       "    .dataframe thead th {\n",
       "        text-align: right;\n",
       "    }\n",
       "</style>\n",
       "<table border=\"1\" class=\"dataframe\">\n",
       "  <thead>\n",
       "    <tr style=\"text-align: right;\">\n",
       "      <th></th>\n",
       "      <th>Year</th>\n",
       "      <th>Rep_Candidate</th>\n",
       "      <th>Dem_Candidate</th>\n",
       "      <th>Rep_votes</th>\n",
       "      <th>Dem_votes</th>\n",
       "      <th>Dem_electrolvote</th>\n",
       "      <th>Rep_electrolvote</th>\n",
       "      <th>Total_votes</th>\n",
       "      <th>Rep_rate</th>\n",
       "      <th>Dem_rate</th>\n",
       "      <th>Rep_Win?</th>\n",
       "      <th>Rep_Win?votecount</th>\n",
       "      <th>President-Elected</th>\n",
       "      <th>Presidentforshort</th>\n",
       "    </tr>\n",
       "  </thead>\n",
       "  <tbody>\n",
       "    <tr>\n",
       "      <th>0</th>\n",
       "      <td>1976</td>\n",
       "      <td>Ford, Gerald</td>\n",
       "      <td>Carter, Jimmy</td>\n",
       "      <td>38870893</td>\n",
       "      <td>40680446</td>\n",
       "      <td>293.0</td>\n",
       "      <td>238.0</td>\n",
       "      <td>81601344</td>\n",
       "      <td>0.476351</td>\n",
       "      <td>0.498527</td>\n",
       "      <td>-22.175529</td>\n",
       "      <td>-1809553</td>\n",
       "      <td>Carter, Jimmy</td>\n",
       "      <td>Carter</td>\n",
       "    </tr>\n",
       "    <tr>\n",
       "      <th>1</th>\n",
       "      <td>1980</td>\n",
       "      <td>Reagan, Ronald</td>\n",
       "      <td>Carter, Jimmy</td>\n",
       "      <td>43642639</td>\n",
       "      <td>35480948</td>\n",
       "      <td>83.0</td>\n",
       "      <td>447.0</td>\n",
       "      <td>86496851</td>\n",
       "      <td>0.504558</td>\n",
       "      <td>0.410199</td>\n",
       "      <td>94.358244</td>\n",
       "      <td>8161691</td>\n",
       "      <td>Reagan, Ronald</td>\n",
       "      <td>Reagan</td>\n",
       "    </tr>\n",
       "    <tr>\n",
       "      <th>2</th>\n",
       "      <td>1984</td>\n",
       "      <td>Reagan, Ronald</td>\n",
       "      <td>Mondale, Walter</td>\n",
       "      <td>54166829</td>\n",
       "      <td>37449813</td>\n",
       "      <td>16.0</td>\n",
       "      <td>515.0</td>\n",
       "      <td>92654861</td>\n",
       "      <td>0.584609</td>\n",
       "      <td>0.404186</td>\n",
       "      <td>180.422439</td>\n",
       "      <td>16717016</td>\n",
       "      <td>Reagan, Ronald</td>\n",
       "      <td>Reagan</td>\n",
       "    </tr>\n",
       "    <tr>\n",
       "      <th>3</th>\n",
       "      <td>1988</td>\n",
       "      <td>Bush, George H.W.</td>\n",
       "      <td>Dukakis, Michael</td>\n",
       "      <td>48642640</td>\n",
       "      <td>41716679</td>\n",
       "      <td>100.0</td>\n",
       "      <td>431.0</td>\n",
       "      <td>91586825</td>\n",
       "      <td>0.531110</td>\n",
       "      <td>0.455488</td>\n",
       "      <td>75.621805</td>\n",
       "      <td>6925961</td>\n",
       "      <td>Bush, George H.W.</td>\n",
       "      <td>Bush.</td>\n",
       "    </tr>\n",
       "    <tr>\n",
       "      <th>4</th>\n",
       "      <td>1992</td>\n",
       "      <td>Bush, George H.W.</td>\n",
       "      <td>Clinton, Bill</td>\n",
       "      <td>38798913</td>\n",
       "      <td>44856747</td>\n",
       "      <td>351.0</td>\n",
       "      <td>177.0</td>\n",
       "      <td>104599780</td>\n",
       "      <td>0.370927</td>\n",
       "      <td>0.428842</td>\n",
       "      <td>-57.914405</td>\n",
       "      <td>-6057834</td>\n",
       "      <td>Clinton, Bill</td>\n",
       "      <td>Clinton</td>\n",
       "    </tr>\n",
       "    <tr>\n",
       "      <th>5</th>\n",
       "      <td>1996</td>\n",
       "      <td>Dole, Robert</td>\n",
       "      <td>Clinton, Bill</td>\n",
       "      <td>39003697</td>\n",
       "      <td>47295351</td>\n",
       "      <td>364.0</td>\n",
       "      <td>166.0</td>\n",
       "      <td>96389818</td>\n",
       "      <td>0.404645</td>\n",
       "      <td>0.490667</td>\n",
       "      <td>-86.022094</td>\n",
       "      <td>-8291654</td>\n",
       "      <td>Clinton, Bill</td>\n",
       "      <td>Clinton</td>\n",
       "    </tr>\n",
       "    <tr>\n",
       "      <th>6</th>\n",
       "      <td>2000</td>\n",
       "      <td>Bush, George W.</td>\n",
       "      <td>Gore, Al</td>\n",
       "      <td>49201713</td>\n",
       "      <td>49662314</td>\n",
       "      <td>238.0</td>\n",
       "      <td>283.0</td>\n",
       "      <td>103155297</td>\n",
       "      <td>0.476967</td>\n",
       "      <td>0.481433</td>\n",
       "      <td>-4.465122</td>\n",
       "      <td>-460601</td>\n",
       "      <td>Bush, George W.</td>\n",
       "      <td>Bush</td>\n",
       "    </tr>\n",
       "    <tr>\n",
       "      <th>7</th>\n",
       "      <td>2004</td>\n",
       "      <td>Bush, George W.</td>\n",
       "      <td>Kerry, John</td>\n",
       "      <td>60526016</td>\n",
       "      <td>57449540</td>\n",
       "      <td>231.0</td>\n",
       "      <td>290.0</td>\n",
       "      <td>119521063</td>\n",
       "      <td>0.506405</td>\n",
       "      <td>0.480665</td>\n",
       "      <td>25.740032</td>\n",
       "      <td>3076476</td>\n",
       "      <td>Bush, George W.</td>\n",
       "      <td>Bush</td>\n",
       "    </tr>\n",
       "    <tr>\n",
       "      <th>8</th>\n",
       "      <td>2008</td>\n",
       "      <td>McCain, John</td>\n",
       "      <td>Obama, Barack H.</td>\n",
       "      <td>59613835</td>\n",
       "      <td>69338846</td>\n",
       "      <td>353.0</td>\n",
       "      <td>178.0</td>\n",
       "      <td>131419253</td>\n",
       "      <td>0.453616</td>\n",
       "      <td>0.527616</td>\n",
       "      <td>-73.999896</td>\n",
       "      <td>-9725011</td>\n",
       "      <td>Obama, Barack H.</td>\n",
       "      <td>Obama</td>\n",
       "    </tr>\n",
       "    <tr>\n",
       "      <th>9</th>\n",
       "      <td>2012</td>\n",
       "      <td>Romney, Mitt</td>\n",
       "      <td>Obama, Barack H.</td>\n",
       "      <td>59349892</td>\n",
       "      <td>64205850</td>\n",
       "      <td>317.0</td>\n",
       "      <td>204.0</td>\n",
       "      <td>126203436</td>\n",
       "      <td>0.470272</td>\n",
       "      <td>0.508749</td>\n",
       "      <td>-38.477225</td>\n",
       "      <td>-4855958</td>\n",
       "      <td>Obama, Barack H.</td>\n",
       "      <td>Obama</td>\n",
       "    </tr>\n",
       "    <tr>\n",
       "      <th>10</th>\n",
       "      <td>2016</td>\n",
       "      <td>Trump, Donald J.</td>\n",
       "      <td>Clinton, Hillary</td>\n",
       "      <td>62692411</td>\n",
       "      <td>65677168</td>\n",
       "      <td>228.0</td>\n",
       "      <td>303.0</td>\n",
       "      <td>136787187</td>\n",
       "      <td>0.458321</td>\n",
       "      <td>0.480141</td>\n",
       "      <td>-21.820443</td>\n",
       "      <td>-2984757</td>\n",
       "      <td>Trump, Donald J.</td>\n",
       "      <td>Trump</td>\n",
       "    </tr>\n",
       "    <tr>\n",
       "      <th>11</th>\n",
       "      <td>2020</td>\n",
       "      <td>Donald Trump</td>\n",
       "      <td>Joe Biden</td>\n",
       "      <td>71504965</td>\n",
       "      <td>76466796</td>\n",
       "      <td>301.0</td>\n",
       "      <td>230.0</td>\n",
       "      <td>150628604</td>\n",
       "      <td>0.474710</td>\n",
       "      <td>0.507651</td>\n",
       "      <td>-32.940828</td>\n",
       "      <td>-4961831</td>\n",
       "      <td>Joe Biden</td>\n",
       "      <td>Biden</td>\n",
       "    </tr>\n",
       "  </tbody>\n",
       "</table>\n",
       "</div>"
      ],
      "text/plain": [
       "    Year      Rep_Candidate     Dem_Candidate  Rep_votes  Dem_votes  \\\n",
       "0   1976       Ford, Gerald     Carter, Jimmy   38870893   40680446   \n",
       "1   1980     Reagan, Ronald     Carter, Jimmy   43642639   35480948   \n",
       "2   1984     Reagan, Ronald   Mondale, Walter   54166829   37449813   \n",
       "3   1988  Bush, George H.W.  Dukakis, Michael   48642640   41716679   \n",
       "4   1992  Bush, George H.W.     Clinton, Bill   38798913   44856747   \n",
       "5   1996       Dole, Robert     Clinton, Bill   39003697   47295351   \n",
       "6   2000    Bush, George W.          Gore, Al   49201713   49662314   \n",
       "7   2004    Bush, George W.       Kerry, John   60526016   57449540   \n",
       "8   2008       McCain, John  Obama, Barack H.   59613835   69338846   \n",
       "9   2012       Romney, Mitt  Obama, Barack H.   59349892   64205850   \n",
       "10  2016   Trump, Donald J.  Clinton, Hillary   62692411   65677168   \n",
       "11  2020       Donald Trump         Joe Biden   71504965   76466796   \n",
       "\n",
       "    Dem_electrolvote  Rep_electrolvote  Total_votes  Rep_rate  Dem_rate  \\\n",
       "0              293.0             238.0     81601344  0.476351  0.498527   \n",
       "1               83.0             447.0     86496851  0.504558  0.410199   \n",
       "2               16.0             515.0     92654861  0.584609  0.404186   \n",
       "3              100.0             431.0     91586825  0.531110  0.455488   \n",
       "4              351.0             177.0    104599780  0.370927  0.428842   \n",
       "5              364.0             166.0     96389818  0.404645  0.490667   \n",
       "6              238.0             283.0    103155297  0.476967  0.481433   \n",
       "7              231.0             290.0    119521063  0.506405  0.480665   \n",
       "8              353.0             178.0    131419253  0.453616  0.527616   \n",
       "9              317.0             204.0    126203436  0.470272  0.508749   \n",
       "10             228.0             303.0    136787187  0.458321  0.480141   \n",
       "11             301.0             230.0    150628604  0.474710  0.507651   \n",
       "\n",
       "      Rep_Win?  Rep_Win?votecount  President-Elected Presidentforshort  \n",
       "0   -22.175529           -1809553      Carter, Jimmy            Carter  \n",
       "1    94.358244            8161691     Reagan, Ronald            Reagan  \n",
       "2   180.422439           16717016     Reagan, Ronald           Reagan   \n",
       "3    75.621805            6925961  Bush, George H.W.             Bush.  \n",
       "4   -57.914405           -6057834      Clinton, Bill           Clinton  \n",
       "5   -86.022094           -8291654      Clinton, Bill          Clinton   \n",
       "6    -4.465122            -460601    Bush, George W.              Bush  \n",
       "7    25.740032            3076476    Bush, George W.             Bush   \n",
       "8   -73.999896           -9725011   Obama, Barack H.             Obama  \n",
       "9   -38.477225           -4855958   Obama, Barack H.            Obama   \n",
       "10  -21.820443           -2984757   Trump, Donald J.             Trump  \n",
       "11  -32.940828           -4961831          Joe Biden             Biden  "
      ]
     },
     "execution_count": 25,
     "metadata": {},
     "output_type": "execute_result"
    }
   ],
   "source": [
    "national_level"
   ]
  },
  {
   "cell_type": "code",
   "execution_count": 26,
   "metadata": {
    "execution": {
     "iopub.execute_input": "2020-11-10T13:20:19.289633Z",
     "iopub.status.busy": "2020-11-10T13:20:19.267286Z",
     "iopub.status.idle": "2020-11-10T13:20:20.440335Z",
     "shell.execute_reply": "2020-11-10T13:20:20.441058Z"
    },
    "papermill": {
     "duration": 1.23143,
     "end_time": "2020-11-10T13:20:20.441220",
     "exception": false,
     "start_time": "2020-11-10T13:20:19.209790",
     "status": "completed"
    },
    "tags": []
   },
   "outputs": [
    {
     "data": {
      "image/png": "[encoded data removed]",
      "text/plain": [
       "<Figure size 864x576 with 1 Axes>"
      ]
     },
     "metadata": {},
     "output_type": "display_data"
    }
   ],
   "source": [
    "sns.set_style('whitegrid')\n",
    "g = sns.barplot(x = 'Presidentforshort', y = 'Rep_Win?', data = national_level, hue = 'Rep_Win?', palette='coolwarm', dodge = False)\n",
    "g.legend([])\n",
    "g.figure.set_size_inches(12, 8)\n",
    "g.set_title('Politic Side and Popular vote rate margin', size = 16, y = 1.05)\n",
    "g.set(ylabel = 'National-level Popular vote margin - per thousand', \n",
    "     ylim=(-200, 200))\n",
    "g.set_xlabel('')\n",
    "fig = g.get_figure()\n",
    "fig.savefig('Politicside.jpg')"
   ]
  },
  {
   "cell_type": "code",
   "execution_count": 27,
   "metadata": {
    "execution": {
     "iopub.execute_input": "2020-11-10T13:20:20.621679Z",
     "iopub.status.busy": "2020-11-10T13:20:20.620885Z",
     "iopub.status.idle": "2020-11-10T13:20:20.624394Z",
     "shell.execute_reply": "2020-11-10T13:20:20.623650Z"
    },
    "papermill": {
     "duration": 0.052191,
     "end_time": "2020-11-10T13:20:20.624517",
     "exception": false,
     "start_time": "2020-11-10T13:20:20.572326",
     "status": "completed"
    },
    "tags": []
   },
   "outputs": [],
   "source": [
    "#Plotting the differences \n",
    "my_range=range(1,len(national_level.index)+1)"
   ]
  },
  {
   "cell_type": "code",
   "execution_count": 28,
   "metadata": {
    "execution": {
     "iopub.execute_input": "2020-11-10T13:20:20.731213Z",
     "iopub.status.busy": "2020-11-10T13:20:20.720793Z",
     "iopub.status.idle": "2020-11-10T13:20:21.065776Z",
     "shell.execute_reply": "2020-11-10T13:20:21.064996Z"
    },
    "papermill": {
     "duration": 0.397588,
     "end_time": "2020-11-10T13:20:21.065916",
     "exception": false,
     "start_time": "2020-11-10T13:20:20.668328",
     "status": "completed"
    },
    "tags": []
   },
   "outputs": [
    {
     "data": {
      "image/png": "[encoded data removed]",
      "text/plain": [
       "<Figure size 960x480 with 1 Axes>"
      ]
     },
     "metadata": {},
     "output_type": "display_data"
    }
   ],
   "source": [
    "#Plotting the margin of popular votes\n",
    "import seaborn as sns\n",
    "from matplotlib.pyplot import figure\n",
    "figure(num=None, figsize=(12, 6), dpi=80, facecolor='w', edgecolor='k')\n",
    "sns.set_style('whitegrid')\n",
    "\n",
    "plt.hlines(y = my_range, xmin = national_level['Rep_votes'], \n",
    "           xmax =national_level['Dem_votes'], color = 'green', alpha = 0.4)\n",
    "plt.scatter(national_level['Rep_votes'], my_range, color = 'red', alpha = 0.8)\n",
    "plt.scatter(national_level['Dem_votes'], my_range, color = 'blue', alpha = 0.8)\n",
    "plt.legend(['Margin','Republican','Democrats'])\n",
    "plt.yticks(np.arange(1, 13, step=1), \n",
    "           labels = (national_level['Year']))\n",
    "plt.ylabel('Year', size = 14)\n",
    "plt.xlim(20000000,80000000)\n",
    "plt.xlabel('Votes x 10 millions', size = 14)\n",
    "plt.title('Republican vs Demorats poloular votes over elections', size = 16, y = 1.05)\n",
    "plt.savefig('Popularvote_margin.jpg')"
   ]
  },
  {
   "cell_type": "code",
   "execution_count": 29,
   "metadata": {
    "execution": {
     "iopub.execute_input": "2020-11-10T13:20:21.191531Z",
     "iopub.status.busy": "2020-11-10T13:20:21.190709Z",
     "iopub.status.idle": "2020-11-10T13:20:21.508851Z",
     "shell.execute_reply": "2020-11-10T13:20:21.508222Z"
    },
    "papermill": {
     "duration": 0.391574,
     "end_time": "2020-11-10T13:20:21.508987",
     "exception": false,
     "start_time": "2020-11-10T13:20:21.117413",
     "status": "completed"
    },
    "tags": []
   },
   "outputs": [
    {
     "data": {
      "image/png": "[encoded data removed]",
      "text/plain": [
       "<Figure size 960x480 with 1 Axes>"
      ]
     },
     "metadata": {},
     "output_type": "display_data"
    }
   ],
   "source": [
    "#Plotting the margins of electrol college votes\n",
    "figure(num=None, figsize=(12, 6), dpi=80, facecolor='w', edgecolor='k')\n",
    "plt.hlines(y = my_range, xmin = national_level['Rep_electrolvote'], \n",
    "           xmax =national_level['Dem_electrolvote'], color = 'green', alpha = 0.4)\n",
    "plt.scatter(national_level['Rep_electrolvote'], my_range, color = 'red', alpha = 0.8)\n",
    "plt.scatter(national_level['Dem_electrolvote'], my_range, color = 'blue', alpha = 0.8)\n",
    "plt.legend(['Margin','Republican','Democrats'])\n",
    "plt.yticks(np.arange(1, 13, step=1), \n",
    "           labels = (national_level['Year']))\n",
    "plt.ylabel('Year', size = 14)\n",
    "plt.xlabel('Electrol College votes', size = 14)\n",
    "plt.title('Republican and Demorats Electrol college vote margin over elections', size = 16, y = 1.05)\n",
    "plt.savefig('Electrol-collegevote-margin.jpg')"
   ]
  },
  {
   "cell_type": "code",
   "execution_count": 30,
   "metadata": {
    "execution": {
     "iopub.execute_input": "2020-11-10T13:20:21.615064Z",
     "iopub.status.busy": "2020-11-10T13:20:21.614083Z",
     "iopub.status.idle": "2020-11-10T13:20:21.617372Z",
     "shell.execute_reply": "2020-11-10T13:20:21.616627Z"
    },
    "papermill": {
     "duration": 0.061119,
     "end_time": "2020-11-10T13:20:21.617493",
     "exception": false,
     "start_time": "2020-11-10T13:20:21.556374",
     "status": "completed"
    },
    "tags": []
   },
   "outputs": [],
   "source": [
    "#Get the turn-out ratios\n",
    "turnout['VEP/Pop_rate'] = turnout['VEP']/turnout['Population']\n",
    "turnout['Turnout/Pop_rate'] = turnout['Turnout']/turnout['Population']\n",
    "turnout['Turnout/VEP_rate'] = turnout['Turnout']/turnout['VEP']"
   ]
  },
  {
   "cell_type": "code",
   "execution_count": 31,
   "metadata": {
    "execution": {
     "iopub.execute_input": "2020-11-10T13:20:21.741699Z",
     "iopub.status.busy": "2020-11-10T13:20:21.732340Z",
     "iopub.status.idle": "2020-11-10T13:20:22.254410Z",
     "shell.execute_reply": "2020-11-10T13:20:22.253660Z"
    },
    "papermill": {
     "duration": 0.58956,
     "end_time": "2020-11-10T13:20:22.254535",
     "exception": false,
     "start_time": "2020-11-10T13:20:21.664975",
     "status": "completed"
    },
    "tags": []
   },
   "outputs": [
    {
     "data": {
      "image/png": "[encoded data removed]",
      "text/plain": [
       "<Figure size 1080x504 with 1 Axes>"
      ]
     },
     "metadata": {},
     "output_type": "display_data"
    }
   ],
   "source": [
    "#Plotting Voter turnout overtime\n",
    "sns.set_style('white')\n",
    "fig, ax = plt.subplots(figsize=(15, 7))\n",
    "ax.axvspan(1929,1933,color='steelblue',alpha=0.1)\n",
    "ax.axvspan(1937,1938,color='steelblue',alpha=0.1)\n",
    "ax.axvspan(1945,1945.7,color='steelblue',alpha=0.1)\n",
    "ax.axvspan(1948,1949,color='steelblue',alpha=0.1)\n",
    "ax.axvspan(1953,1954,color='steelblue',alpha=0.1)\n",
    "ax.axvspan(1957,1958,color='steelblue',alpha=0.1)\n",
    "ax.axvspan(1960,1961,color='steelblue',alpha=0.1)\n",
    "ax.axvspan(1969,1970,color='steelblue',alpha=0.1)\n",
    "ax.axvspan(1973,1975,color='steelblue',alpha=0.1)\n",
    "ax.axvspan(1980,1982,color='steelblue',alpha=0.1)\n",
    "ax.axvspan(1990,1991,color='steelblue',alpha=0.1)\n",
    "ax.axvspan(2000,2001,color='steelblue',alpha=0.1)\n",
    "ax.axvspan(2007,2009,color='steelblue',alpha=0.1)\n",
    "ax.axvspan(2019.5,2021.5,color='steelblue',alpha=0.1)\n",
    "ax.plot(turnout['Year'], turnout['Turnout/Pop_rate'], color = 'green')\n",
    "ax.plot(turnout['Year'], turnout['Turnout/VEP_rate'], color = 'orange')\n",
    "ax.legend(['Turnout/Pop_rate','Turnout/VEP_rate'])\n",
    "ax.set_title('Voter turnout rates over years', size = 16, y = 1.05)\n",
    "ax.set_xticks(turnout['Year'])\n",
    "plt.annotate('Recession', xy = (2021, 0.4), xytext =(2025, 0.5),\n",
    "            arrowprops = {'facecolor':'black', 'width':3, 'shrink':0.03}, size = 12)\n",
    "plt.savefig('Turnout-rate&Recession.jpg')"
   ]
  },
  {
   "cell_type": "code",
   "execution_count": 32,
   "metadata": {
    "execution": {
     "iopub.execute_input": "2020-11-10T13:20:22.461025Z",
     "iopub.status.busy": "2020-11-10T13:20:22.460266Z",
     "iopub.status.idle": "2020-11-10T13:20:22.464121Z",
     "shell.execute_reply": "2020-11-10T13:20:22.463531Z"
    },
    "papermill": {
     "duration": 0.05987,
     "end_time": "2020-11-10T13:20:22.464280",
     "exception": false,
     "start_time": "2020-11-10T13:20:22.404410",
     "status": "completed"
    },
    "tags": []
   },
   "outputs": [],
   "source": [
    "dmg=dmg[dmg['Year']>1970]"
   ]
  },
  {
   "cell_type": "code",
   "execution_count": 33,
   "metadata": {
    "execution": {
     "iopub.execute_input": "2020-11-10T13:20:22.595302Z",
     "iopub.status.busy": "2020-11-10T13:20:22.588505Z",
     "iopub.status.idle": "2020-11-10T13:20:23.095751Z",
     "shell.execute_reply": "2020-11-10T13:20:23.096391Z"
    },
    "papermill": {
     "duration": 0.582299,
     "end_time": "2020-11-10T13:20:23.096558",
     "exception": false,
     "start_time": "2020-11-10T13:20:22.514259",
     "status": "completed"
    },
    "tags": []
   },
   "outputs": [
    {
     "data": {
      "image/png": "[encoded data removed]",
      "text/plain": [
       "<Figure size 1080x504 with 1 Axes>"
      ]
     },
     "metadata": {},
     "output_type": "display_data"
    }
   ],
   "source": [
    "#Plotting USA economy and society over times\n",
    "fig, bx = plt.subplots(figsize=(15, 7))\n",
    "bx.axvspan(1973,1975,color='grey',alpha=0.2)\n",
    "bx.axvspan(1980,1982,color='grey',alpha=0.2)\n",
    "bx.axvspan(1990,1990.5,color='grey',alpha=0.2)\n",
    "bx.axvspan(2000,2000.5,color='grey',alpha=0.2)\n",
    "bx.axvspan(2007,2009,color='grey',alpha=0.2)\n",
    "bx.axvspan(2020,2022,color='grey',alpha=0.2)\n",
    "bx.axvspan(1970,1976,color='red',alpha=0.05)\n",
    "bx.axvspan(1976,1980,color='blue',alpha=0.05)\n",
    "bx.axvspan(1980,1988,color='red',alpha=0.05)\n",
    "bx.axvspan(1988,1992,color='red',alpha=0.05)\n",
    "bx.axvspan(1992,2000,color='blue',alpha=0.05)\n",
    "bx.axvspan(2000,2008,color='red',alpha=0.05)\n",
    "bx.axvspan(2008,2016,color='blue',alpha=0.05)\n",
    "bx.axvspan(2016,2020,color='red',alpha=0.05)\n",
    "bx.axvspan(2020,2024,color='blue',alpha=0.05)\n",
    "bx.plot(dmg['Year'], dmg['Unemployment_rate'], color = 'green')\n",
    "bx.plot(dmg['Year'], dmg['Annual_GDP_growth'], color = 'orange')\n",
    "bx.legend(['Unemployment rate', 'Annual GDP growth'])\n",
    "bx.set_title('US Politic background with GDP growth and Unemployment rates', size = 16, y = 1.05)\n",
    "bx.set_ylabel('Rate %', size = 14)\n",
    "plt.text(1973, -3, 'Ford', size = 12)\n",
    "plt.text(1977, -3, 'Carter', size = 12)\n",
    "plt.text(1983, -3, 'Reagan', size = 12)\n",
    "plt.text(1989, -3, 'Bush', size = 12)\n",
    "plt.text(1995, -3, 'Cliton', size = 12)\n",
    "plt.text(2003, -3, 'Bush', size = 12)\n",
    "plt.text(2011, -3, 'Obama', size = 12)\n",
    "plt.text(2017, -3, 'Trump', size = 12)\n",
    "plt.text(2021, -3, 'Biden', size = 12)\n",
    "plt.annotate('Recession', xy = (2021, 4), xytext =(2025, 8),\n",
    "            arrowprops = {'facecolor':'black', 'width':3, 'shrink':0.03}, size = 12)\n",
    "plt.savefig('Politic_and_economy.jpg')"
   ]
  },
  {
   "cell_type": "code",
   "execution_count": null,
   "metadata": {
    "papermill": {
     "duration": 0.051443,
     "end_time": "2020-11-10T13:20:23.306281",
     "exception": false,
     "start_time": "2020-11-10T13:20:23.254838",
     "status": "completed"
    },
    "tags": []
   },
   "outputs": [],
   "source": []
  }
 ],
 "metadata": {
  "kernelspec": {
   "display_name": "Python 3",
   "language": "python",
   "name": "python3"
  },
  "language_info": {
   "codemirror_mode": {
    "name": "ipython",
    "version": 3
   },
   "file_extension": ".py",
   "mimetype": "text/x-python",
   "name": "python",
   "nbconvert_exporter": "python",
   "pygments_lexer": "ipython3",
   "version": "3.7.6"
  },
  "papermill": {
   "duration": 16.149478,
   "end_time": "2020-11-10T13:20:24.370597",
   "environment_variables": {},
   "exception": null,
   "input_path": "__notebook__.ipynb",
   "output_path": "__notebook__.ipynb",
   "parameters": {},
   "start_time": "2020-11-10T13:20:08.221119",
   "version": "2.1.0"
  }
 },
 "nbformat": 4,
 "nbformat_minor": 4
}
